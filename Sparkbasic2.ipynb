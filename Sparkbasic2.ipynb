{
  "nbformat": 4,
  "nbformat_minor": 0,
  "metadata": {
    "colab": {
      "name": "Sparkbasic2.ipynb",
      "provenance": []
    },
    "kernelspec": {
      "name": "python3",
      "display_name": "Python 3"
    },
    "language_info": {
      "name": "python"
    }
  },
  "cells": [
    {
      "cell_type": "code",
      "metadata": {
        "colab": {
          "resources": {
            "http://localhost:8080/nbextensions/google.colab/files.js": {
              "data": "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",
              "ok": true,
              "headers": [
                [
                  "content-type",
                  "application/javascript"
                ]
              ],
              "status": 200,
              "status_text": ""
            }
          },
          "base_uri": "https://localhost:8080/",
          "height": 72
        },
        "id": "yV3A6LV8UoG-",
        "outputId": "e2b3e4cb-77b4-444e-f536-a30551ff9a0c"
      },
      "source": [
        "from google.colab import files\n",
        "uploaded = files.upload()"
      ],
      "execution_count": 1,
      "outputs": [
        {
          "output_type": "display_data",
          "data": {
            "text/html": [
              "\n",
              "     <input type=\"file\" id=\"files-fa91a329-fbfd-4fa3-8f5d-4dc5b70dde43\" name=\"files[]\" multiple disabled\n",
              "        style=\"border:none\" />\n",
              "     <output id=\"result-fa91a329-fbfd-4fa3-8f5d-4dc5b70dde43\">\n",
              "      Upload widget is only available when the cell has been executed in the\n",
              "      current browser session. Please rerun this cell to enable.\n",
              "      </output>\n",
              "      <script src=\"/nbextensions/google.colab/files.js\"></script> "
            ],
            "text/plain": [
              "<IPython.core.display.HTML object>"
            ]
          },
          "metadata": {
            "tags": []
          }
        },
        {
          "output_type": "stream",
          "text": [
            "Saving Sparktest2.csv to Sparktest2.csv\n"
          ],
          "name": "stdout"
        }
      ]
    },
    {
      "cell_type": "code",
      "metadata": {
        "colab": {
          "base_uri": "https://localhost:8080/"
        },
        "id": "v1DySqOvVLJK",
        "outputId": "a9269ce4-9bc9-4643-9164-4c88366e2cd2"
      },
      "source": [
        "!pip install pyspark\n",
        "import pyspark\n",
        "from pyspark.sql import SparkSession"
      ],
      "execution_count": 6,
      "outputs": [
        {
          "output_type": "stream",
          "text": [
            "Collecting pyspark\n",
            "\u001b[?25l  Downloading https://files.pythonhosted.org/packages/89/db/e18cfd78e408de957821ec5ca56de1250645b05f8523d169803d8df35a64/pyspark-3.1.2.tar.gz (212.4MB)\n",
            "\u001b[K     |████████████████████████████████| 212.4MB 72kB/s \n",
            "\u001b[?25hCollecting py4j==0.10.9\n",
            "\u001b[?25l  Downloading https://files.pythonhosted.org/packages/9e/b6/6a4fb90cd235dc8e265a6a2067f2a2c99f0d91787f06aca4bcf7c23f3f80/py4j-0.10.9-py2.py3-none-any.whl (198kB)\n",
            "\u001b[K     |████████████████████████████████| 204kB 15.2MB/s \n",
            "\u001b[?25hBuilding wheels for collected packages: pyspark\n",
            "  Building wheel for pyspark (setup.py) ... \u001b[?25l\u001b[?25hdone\n",
            "  Created wheel for pyspark: filename=pyspark-3.1.2-py2.py3-none-any.whl size=212880768 sha256=854107e246d812e48484fd9923439d63c9a8e1aa320f3b4e24b3c7acede93f46\n",
            "  Stored in directory: /root/.cache/pip/wheels/40/1b/2c/30f43be2627857ab80062bef1527c0128f7b4070b6b2d02139\n",
            "Successfully built pyspark\n",
            "Installing collected packages: py4j, pyspark\n",
            "Successfully installed py4j-0.10.9 pyspark-3.1.2\n"
          ],
          "name": "stdout"
        }
      ]
    },
    {
      "cell_type": "code",
      "metadata": {
        "id": "lOc5_oU8Vcao"
      },
      "source": [
        "spark = SparkSession.builder.appName('TestSpark2').getOrCreate() "
      ],
      "execution_count": 83,
      "outputs": []
    },
    {
      "cell_type": "code",
      "metadata": {
        "colab": {
          "base_uri": "https://localhost:8080/",
          "height": 216
        },
        "id": "4rBDOrUnVm0t",
        "outputId": "5b32c8a2-821a-4454-8e90-ab378f76dcd4"
      },
      "source": [
        "spark"
      ],
      "execution_count": 84,
      "outputs": [
        {
          "output_type": "execute_result",
          "data": {
            "text/html": [
              "\n",
              "            <div>\n",
              "                <p><b>SparkSession - in-memory</b></p>\n",
              "                \n",
              "        <div>\n",
              "            <p><b>SparkContext</b></p>\n",
              "\n",
              "            <p><a href=\"http://bfcc6679362c:4040\">Spark UI</a></p>\n",
              "\n",
              "            <dl>\n",
              "              <dt>Version</dt>\n",
              "                <dd><code>v3.1.2</code></dd>\n",
              "              <dt>Master</dt>\n",
              "                <dd><code>local[*]</code></dd>\n",
              "              <dt>AppName</dt>\n",
              "                <dd><code>TestSpark2</code></dd>\n",
              "            </dl>\n",
              "        </div>\n",
              "        \n",
              "            </div>\n",
              "        "
            ],
            "text/plain": [
              "<pyspark.sql.session.SparkSession at 0x7f0a2b51e050>"
            ]
          },
          "metadata": {
            "tags": []
          },
          "execution_count": 84
        }
      ]
    },
    {
      "cell_type": "code",
      "metadata": {
        "colab": {
          "base_uri": "https://localhost:8080/"
        },
        "id": "4_aIoAzcVqvj",
        "outputId": "887036f3-788a-4608-8ad3-4ec8c033734c"
      },
      "source": [
        "dfspark = spark.read.option('header', 'true').csv('Sparktest2.csv') \n",
        "dfspark.show()"
      ],
      "execution_count": 85,
      "outputs": [
        {
          "output_type": "stream",
          "text": [
            "+----+----+-------+----------+------+\n",
            "|Name| Age|Married|Experience|Salary|\n",
            "+----+----+-------+----------+------+\n",
            "| Ahm|  30|     no|         2|  2000|\n",
            "| Mom|  50|    yes|        20|  3000|\n",
            "| Nom|  30|     no|         5|  2500|\n",
            "|  Ib|  40|     no|        15|  3000|\n",
            "|Ibra|  44|    yes|        14|  3100|\n",
            "|Momh|  55|    yes|        20|  3200|\n",
            "|Nomg|  33|     no|         6|  2300|\n",
            "|null|null|     no|      null| 10000|\n",
            "|null|null|     no|      null|   500|\n",
            "+----+----+-------+----------+------+\n",
            "\n"
          ],
          "name": "stdout"
        }
      ]
    },
    {
      "cell_type": "code",
      "metadata": {
        "colab": {
          "base_uri": "https://localhost:8080/"
        },
        "id": "HEvr-ZToVvq7",
        "outputId": "d0a9603e-795e-4abc-dae9-6f62083b48cd"
      },
      "source": [
        "##to drop the columns\n",
        "dfspark.drop('Married').show()"
      ],
      "execution_count": 72,
      "outputs": [
        {
          "output_type": "stream",
          "text": [
            "+----+----+----------+------+\n",
            "|Name| Age|Experience|Salary|\n",
            "+----+----+----------+------+\n",
            "| Ahm|  30|         2|  2000|\n",
            "| Mom|  50|        20|  3000|\n",
            "| Nom|  30|         5|  2500|\n",
            "|  Ib|  40|        15|  3000|\n",
            "|Ibra|  44|        14|  3100|\n",
            "|Momh|  55|        20|  3200|\n",
            "|Nomg|  33|         6|  2300|\n",
            "|null|null|      null| 10000|\n",
            "|null|null|      null|   500|\n",
            "+----+----+----------+------+\n",
            "\n"
          ],
          "name": "stdout"
        }
      ]
    },
    {
      "cell_type": "code",
      "metadata": {
        "colab": {
          "base_uri": "https://localhost:8080/"
        },
        "id": "czUJD-TyWGWF",
        "outputId": "2f0b4f42-485d-4132-86ec-d12e12e55947"
      },
      "source": [
        "#https://sparkbyexamples.com/pyspark/pyspark-fillna-fill-replace-null-values/\n",
        "dfspark.na.fill('here missing values',['Experience']).show()"
      ],
      "execution_count": 17,
      "outputs": [
        {
          "output_type": "stream",
          "text": [
            "+----+----+-------+-------------------+------+\n",
            "|Name| Age|Married|         Experience|Salary|\n",
            "+----+----+-------+-------------------+------+\n",
            "| Ahm|  30|     no|                  2|  2000|\n",
            "| Mom|  50|    yes|                 20|  3000|\n",
            "| Nom|  30|     no|                  5|  2500|\n",
            "|  Ib|  40|     no|                 15|  3000|\n",
            "|Ibra|  44|    yes|                 14|  3100|\n",
            "|Momh|  55|    yes|                 20|  3200|\n",
            "|Nomg|  33|     no|                  6|  2300|\n",
            "|null|null|     no|here missing values| 10000|\n",
            "|null|null|     no|here missing values|   500|\n",
            "+----+----+-------+-------------------+------+\n",
            "\n"
          ],
          "name": "stdout"
        }
      ]
    },
    {
      "cell_type": "code",
      "metadata": {
        "colab": {
          "base_uri": "https://localhost:8080/"
        },
        "id": "Vf3lszmFXO51",
        "outputId": "08d0db03-6e2d-49c7-f4d4-a4edc7859b29"
      },
      "source": [
        "dfspark.na.fill('here missing values').show()"
      ],
      "execution_count": 18,
      "outputs": [
        {
          "output_type": "stream",
          "text": [
            "+-------------------+-------------------+-------+-------------------+------+\n",
            "|               Name|                Age|Married|         Experience|Salary|\n",
            "+-------------------+-------------------+-------+-------------------+------+\n",
            "|                Ahm|                 30|     no|                  2|  2000|\n",
            "|                Mom|                 50|    yes|                 20|  3000|\n",
            "|                Nom|                 30|     no|                  5|  2500|\n",
            "|                 Ib|                 40|     no|                 15|  3000|\n",
            "|               Ibra|                 44|    yes|                 14|  3100|\n",
            "|               Momh|                 55|    yes|                 20|  3200|\n",
            "|               Nomg|                 33|     no|                  6|  2300|\n",
            "|here missing values|here missing values|     no|here missing values| 10000|\n",
            "|here missing values|here missing values|     no|here missing values|   500|\n",
            "+-------------------+-------------------+-------+-------------------+------+\n",
            "\n"
          ],
          "name": "stdout"
        }
      ]
    },
    {
      "cell_type": "code",
      "metadata": {
        "colab": {
          "base_uri": "https://localhost:8080/"
        },
        "id": "LNXgy_M4XRx-",
        "outputId": "4b9284a8-7f72-48bf-b121-1335f995108a"
      },
      "source": [
        "dfspark.na.drop().show()"
      ],
      "execution_count": 19,
      "outputs": [
        {
          "output_type": "stream",
          "text": [
            "+----+---+-------+----------+------+\n",
            "|Name|Age|Married|Experience|Salary|\n",
            "+----+---+-------+----------+------+\n",
            "| Ahm| 30|     no|         2|  2000|\n",
            "| Mom| 50|    yes|        20|  3000|\n",
            "| Nom| 30|     no|         5|  2500|\n",
            "|  Ib| 40|     no|        15|  3000|\n",
            "|Ibra| 44|    yes|        14|  3100|\n",
            "|Momh| 55|    yes|        20|  3200|\n",
            "|Nomg| 33|     no|         6|  2300|\n",
            "+----+---+-------+----------+------+\n",
            "\n"
          ],
          "name": "stdout"
        }
      ]
    },
    {
      "cell_type": "code",
      "metadata": {
        "colab": {
          "base_uri": "https://localhost:8080/"
        },
        "id": "3rQFrPmQXbTG",
        "outputId": "3b63a9be-d7bb-4d61-94ad-abe328e3512c"
      },
      "source": [
        "dfspark.printSchema()"
      ],
      "execution_count": 22,
      "outputs": [
        {
          "output_type": "stream",
          "text": [
            "root\n",
            " |-- Name: string (nullable = true)\n",
            " |-- Age: string (nullable = true)\n",
            " |-- Married: string (nullable = true)\n",
            " |-- Experience: string (nullable = true)\n",
            " |-- Salary: string (nullable = true)\n",
            "\n"
          ],
          "name": "stdout"
        }
      ]
    },
    {
      "cell_type": "code",
      "metadata": {
        "colab": {
          "base_uri": "https://localhost:8080/"
        },
        "id": "7kWF3JQdW26T",
        "outputId": "61c471c9-5eba-4b30-f0ff-dca59afe3cfc"
      },
      "source": [
        "dfspark.describe().show()"
      ],
      "execution_count": 23,
      "outputs": [
        {
          "output_type": "stream",
          "text": [
            "+-------+----+------------------+-------+------------------+------------------+\n",
            "|summary|Name|               Age|Married|        Experience|            Salary|\n",
            "+-------+----+------------------+-------+------------------+------------------+\n",
            "|  count|   7|                 7|      9|                 7|                 9|\n",
            "|   mean|null|40.285714285714285|   null|11.714285714285714|3288.8888888888887|\n",
            "| stddev|null| 9.911513266807207|   null|7.3646517390909425| 2652.566890977702|\n",
            "|    min| Ahm|                30|     no|                14|             10000|\n",
            "|    max|Nomg|                55|    yes|                 6|               500|\n",
            "+-------+----+------------------+-------+------------------+------------------+\n",
            "\n"
          ],
          "name": "stdout"
        }
      ]
    },
    {
      "cell_type": "code",
      "metadata": {
        "colab": {
          "base_uri": "https://localhost:8080/"
        },
        "id": "2gOxuStVZ4OZ",
        "outputId": "c4fc4281-c575-4b49-e880-04c8e9c30392"
      },
      "source": [
        "dfspark.agg({'Salary': 'mean'}).show()\n"
      ],
      "execution_count": 34,
      "outputs": [
        {
          "output_type": "stream",
          "text": [
            "+------------------+\n",
            "|       avg(Salary)|\n",
            "+------------------+\n",
            "|3288.8888888888887|\n",
            "+------------------+\n",
            "\n"
          ],
          "name": "stdout"
        }
      ]
    },
    {
      "cell_type": "code",
      "metadata": {
        "id": "ZjC__WMWbe0I"
      },
      "source": [
        "# We can use many methods to replace null, such as fillna() & fill(), as we did above \n",
        "#https://sparkbyexamples.com/pyspark/pyspark-fillna-fill-replace-null-values/\n",
        "\n",
        "\n",
        "# Here We need to use Imputer to replace null values with mean value\n",
        "#https://stackoverflow.com/questions/51680462/replace-null-values-with-median-in-pyspark\n",
        "#https://spark.apache.org/docs/latest/api/python/reference/api/pyspark.ml.feature.Imputer.html\n",
        "\n"
      ],
      "execution_count": null,
      "outputs": []
    },
    {
      "cell_type": "code",
      "metadata": {
        "colab": {
          "base_uri": "https://localhost:8080/"
        },
        "id": "fZayKesdfubX",
        "outputId": "d7b1cd72-51a2-4339-b48c-b183e3df160b"
      },
      "source": [
        "\tdfspark.select(\"Age\").dtypes\n"
      ],
      "execution_count": 73,
      "outputs": [
        {
          "output_type": "execute_result",
          "data": {
            "text/plain": [
              "[('Age', 'string')]"
            ]
          },
          "metadata": {
            "tags": []
          },
          "execution_count": 73
        }
      ]
    },
    {
      "cell_type": "code",
      "metadata": {
        "id": "xtQbFCvfgc7d"
      },
      "source": [
        "\n",
        "# First We should change string to integer by using IntegerType function from pyspark.sql.types\n",
        "from pyspark.sql.types import *\n",
        "dfspark = dfspark.withColumn(\"Age\", dfspark[\"Age\"].cast(IntegerType()))"
      ],
      "execution_count": 88,
      "outputs": []
    },
    {
      "cell_type": "code",
      "metadata": {
        "colab": {
          "base_uri": "https://localhost:8080/"
        },
        "id": "1lXZ3hzVhEEJ",
        "outputId": "5a8ed878-55f5-4346-c194-65127f063d7d"
      },
      "source": [
        "dfspark.show()"
      ],
      "execution_count": 75,
      "outputs": [
        {
          "output_type": "stream",
          "text": [
            "+----+----+-------+----------+------+\n",
            "|Name| Age|Married|Experience|Salary|\n",
            "+----+----+-------+----------+------+\n",
            "| Ahm|  30|     no|         2|  2000|\n",
            "| Mom|  50|    yes|        20|  3000|\n",
            "| Nom|  30|     no|         5|  2500|\n",
            "|  Ib|  40|     no|        15|  3000|\n",
            "|Ibra|  44|    yes|        14|  3100|\n",
            "|Momh|  55|    yes|        20|  3200|\n",
            "|Nomg|  33|     no|         6|  2300|\n",
            "|null|null|     no|      null| 10000|\n",
            "|null|null|     no|      null|   500|\n",
            "+----+----+-------+----------+------+\n",
            "\n"
          ],
          "name": "stdout"
        }
      ]
    },
    {
      "cell_type": "code",
      "metadata": {
        "colab": {
          "base_uri": "https://localhost:8080/"
        },
        "id": "lApn7GDlhQkz",
        "outputId": "52207f00-aca7-46df-d22c-07c3c97ef2e7"
      },
      "source": [
        "dfspark.printSchema()"
      ],
      "execution_count": 76,
      "outputs": [
        {
          "output_type": "stream",
          "text": [
            "root\n",
            " |-- Name: string (nullable = true)\n",
            " |-- Age: integer (nullable = true)\n",
            " |-- Married: string (nullable = true)\n",
            " |-- Experience: string (nullable = true)\n",
            " |-- Salary: string (nullable = true)\n",
            "\n"
          ],
          "name": "stdout"
        }
      ]
    },
    {
      "cell_type": "code",
      "metadata": {
        "id": "yW8NXivwhdGW"
      },
      "source": [
        "dfspark = dfspark.withColumn(\"Experience\", dfspark[\"Experience\"].cast(IntegerType()))\n",
        "dfspark = dfspark.withColumn(\"Salary\", dfspark[\"Salary\"].cast(IntegerType()))"
      ],
      "execution_count": 89,
      "outputs": []
    },
    {
      "cell_type": "code",
      "metadata": {
        "colab": {
          "base_uri": "https://localhost:8080/"
        },
        "id": "kWKihgDGhr4l",
        "outputId": "16d342a5-4b8b-4b6d-858f-2ec4b6570abc"
      },
      "source": [
        "dfspark.printSchema()"
      ],
      "execution_count": 90,
      "outputs": [
        {
          "output_type": "stream",
          "text": [
            "root\n",
            " |-- Name: string (nullable = false)\n",
            " |-- Age: integer (nullable = true)\n",
            " |-- Married: string (nullable = true)\n",
            " |-- Experience: integer (nullable = true)\n",
            " |-- Salary: integer (nullable = true)\n",
            "\n"
          ],
          "name": "stdout"
        }
      ]
    },
    {
      "cell_type": "code",
      "metadata": {
        "colab": {
          "base_uri": "https://localhost:8080/"
        },
        "id": "PAiAgXbYi4Um",
        "outputId": "a73ad1c3-431e-4f8b-874a-99751f0865a9"
      },
      "source": [
        "dfspark = dfspark.na.fill('Unknown Person',['Name'])\n",
        "dfspark.show()"
      ],
      "execution_count": 91,
      "outputs": [
        {
          "output_type": "stream",
          "text": [
            "+--------------+----+-------+----------+------+\n",
            "|          Name| Age|Married|Experience|Salary|\n",
            "+--------------+----+-------+----------+------+\n",
            "|           Ahm|  30|     no|         2|  2000|\n",
            "|           Mom|  50|    yes|        20|  3000|\n",
            "|           Nom|  30|     no|         5|  2500|\n",
            "|            Ib|  40|     no|        15|  3000|\n",
            "|          Ibra|  44|    yes|        14|  3100|\n",
            "|          Momh|  55|    yes|        20|  3200|\n",
            "|          Nomg|  33|     no|         6|  2300|\n",
            "|Unknown Person|null|     no|      null| 10000|\n",
            "|Unknown Person|null|     no|      null|   500|\n",
            "+--------------+----+-------+----------+------+\n",
            "\n"
          ],
          "name": "stdout"
        }
      ]
    },
    {
      "cell_type": "code",
      "metadata": {
        "colab": {
          "base_uri": "https://localhost:8080/"
        },
        "id": "HPqYyzv2d0MR",
        "outputId": "2e1363df-ed4b-4814-9cbc-5bfad0fec5f4"
      },
      "source": [
        "# use mean \n",
        "from pyspark.ml.feature import Imputer\n",
        "\n",
        "imputer = Imputer(\n",
        "    inputCols=['Age', 'Experience', 'Salary'], \n",
        "    outputCols=[\"{}_imputed\".format(c) for c in ['Age', 'Experience', 'Salary']]\n",
        "    ).setStrategy(\"median\")\n",
        "# Add imputation cols to df\n",
        "imputer.fit(dfspark).transform(dfspark).show()"
      ],
      "execution_count": 92,
      "outputs": [
        {
          "output_type": "stream",
          "text": [
            "+--------------+----+-------+----------+------+-----------+------------------+--------------+\n",
            "|          Name| Age|Married|Experience|Salary|Age_imputed|Experience_imputed|Salary_imputed|\n",
            "+--------------+----+-------+----------+------+-----------+------------------+--------------+\n",
            "|           Ahm|  30|     no|         2|  2000|         30|                 2|          2000|\n",
            "|           Mom|  50|    yes|        20|  3000|         50|                20|          3000|\n",
            "|           Nom|  30|     no|         5|  2500|         30|                 5|          2500|\n",
            "|            Ib|  40|     no|        15|  3000|         40|                15|          3000|\n",
            "|          Ibra|  44|    yes|        14|  3100|         44|                14|          3100|\n",
            "|          Momh|  55|    yes|        20|  3200|         55|                20|          3200|\n",
            "|          Nomg|  33|     no|         6|  2300|         33|                 6|          2300|\n",
            "|Unknown Person|null|     no|      null| 10000|         40|                14|         10000|\n",
            "|Unknown Person|null|     no|      null|   500|         40|                14|           500|\n",
            "+--------------+----+-------+----------+------+-----------+------------------+--------------+\n",
            "\n"
          ],
          "name": "stdout"
        }
      ]
    },
    {
      "cell_type": "code",
      "metadata": {
        "colab": {
          "base_uri": "https://localhost:8080/"
        },
        "id": "OdYSJfbGhvxe",
        "outputId": "52dc1cc9-d745-4264-81b6-8264278be452"
      },
      "source": [
        "# use Median \n",
        "from pyspark.ml.feature import Imputer\n",
        "\n",
        "imputer2 = Imputer(\n",
        "    inputCols=['Age', 'Experience', 'Salary'], \n",
        "    outputCols=[\"{}_imputed\".format(c) for c in ['Age', 'Experience', 'Salary']]\n",
        "    ).setStrategy(\"mean\")\n",
        "# Add imputation cols to df\n",
        "df=imputer2.fit(dfspark).transform(dfspark).show()"
      ],
      "execution_count": 93,
      "outputs": [
        {
          "output_type": "stream",
          "text": [
            "+--------------+----+-------+----------+------+-----------+------------------+--------------+\n",
            "|          Name| Age|Married|Experience|Salary|Age_imputed|Experience_imputed|Salary_imputed|\n",
            "+--------------+----+-------+----------+------+-----------+------------------+--------------+\n",
            "|           Ahm|  30|     no|         2|  2000|         30|                 2|          2000|\n",
            "|           Mom|  50|    yes|        20|  3000|         50|                20|          3000|\n",
            "|           Nom|  30|     no|         5|  2500|         30|                 5|          2500|\n",
            "|            Ib|  40|     no|        15|  3000|         40|                15|          3000|\n",
            "|          Ibra|  44|    yes|        14|  3100|         44|                14|          3100|\n",
            "|          Momh|  55|    yes|        20|  3200|         55|                20|          3200|\n",
            "|          Nomg|  33|     no|         6|  2300|         33|                 6|          2300|\n",
            "|Unknown Person|null|     no|      null| 10000|         40|                11|         10000|\n",
            "|Unknown Person|null|     no|      null|   500|         40|                11|           500|\n",
            "+--------------+----+-------+----------+------+-----------+------------------+--------------+\n",
            "\n"
          ],
          "name": "stdout"
        }
      ]
    }
  ]
}